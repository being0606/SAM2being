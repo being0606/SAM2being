{
 "cells": [
  {
   "cell_type": "code",
   "execution_count": 7,
   "metadata": {},
   "outputs": [],
   "source": [
    "# !pip3 install pyserial\n",
    "# !pip3 install pyFirmata"
   ]
  },
  {
   "cell_type": "code",
   "execution_count": 1,
   "metadata": {},
   "outputs": [
    {
     "name": "stdout",
     "output_type": "stream",
     "text": [
      "Python script ready. Awaiting commands...\n",
      "Sent command: F\n",
      "Received from Arduino: Arduino ready..\n",
      "Sent command: F\n",
      "Received from Arduino: motor ready..\n",
      "Invalid command. Please enter F, B, or S.\n",
      "Received from Arduino: Received command: F\n",
      "Sent command: S\n",
      "Received from Arduino: Motor set to 0 degrees (Forward).\n",
      "Sent command: B\n",
      "Received from Arduino: Received command: F\n",
      "Invalid command. Please enter F, B, or S.\n",
      "Received from Arduino: Motor set to 0 degrees (Forward).\n",
      "Program interrupted.\n",
      "Serial port closed.\n"
     ]
    }
   ],
   "source": [
    "import serial\n",
    "import time\n",
    "\n",
    "# 포트와 보드레이트를 설정합니다.\n",
    "ser = serial.Serial('/dev/tty.usbmodem1101', 9600)\n",
    "time.sleep(2)  # 아두이노와의 초기 통신 안정화를 위해 잠시 대기\n",
    "\n",
    "print(\"Python script ready. Awaiting commands...\")\n",
    "\n",
    "try:\n",
    "    while True:\n",
    "        command = input(\"Enter command (F for Forward, B for Backward, S for Stop): \").strip().upper()\n",
    "\n",
    "        if command in ['F', 'B', 'S']:\n",
    "            ser.write(command.encode())  # 명령을 아두이노로 전송\n",
    "            print(f\"Sent command: {command}\")\n",
    "        else:\n",
    "            print(\"Invalid command. Please enter F, B, or S.\")\n",
    "            \n",
    "        # 아두이노로부터 응답을 읽고 출력합니다.\n",
    "        if ser.in_waiting > 0:\n",
    "            data = ser.readline().decode('utf-8').strip()\n",
    "            print(f\"Received from Arduino: {data}\")\n",
    "\n",
    "except KeyboardInterrupt:\n",
    "    print(\"Program interrupted.\")\n",
    "\n",
    "finally:\n",
    "    # 시리얼 포트를 닫습니다.\n",
    "    ser.close()\n",
    "    print(\"Serial port closed.\")"
   ]
  },
  {
   "cell_type": "code",
   "execution_count": null,
   "metadata": {},
   "outputs": [],
   "source": []
  }
 ],
 "metadata": {
  "kernelspec": {
   "display_name": "Python 3",
   "language": "python",
   "name": "python3"
  },
  "language_info": {
   "codemirror_mode": {
    "name": "ipython",
    "version": 3
   },
   "file_extension": ".py",
   "mimetype": "text/x-python",
   "name": "python",
   "nbconvert_exporter": "python",
   "pygments_lexer": "ipython3",
   "version": "3.9.6"
  }
 },
 "nbformat": 4,
 "nbformat_minor": 2
}
